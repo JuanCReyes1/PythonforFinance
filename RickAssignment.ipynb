{
 "cells": [
  {
   "cell_type": "markdown",
   "metadata": {},
   "source": [
    "# Assignment 2"
   ]
  },
  {
   "cell_type": "code",
   "execution_count": 2,
   "metadata": {},
   "outputs": [],
   "source": [
    "#This is a comment in python and it will not be picked up in a program execution."
   ]
  },
  {
   "cell_type": "markdown",
   "metadata": {},
   "source": [
    "# Introduction to YahooFinancials"
   ]
  },
  {
   "cell_type": "markdown",
   "metadata": {},
   "source": [
    "A powerful financial data module used for pulling both fundamental and technical data from Yahoo Finance"
   ]
  },
  {
   "cell_type": "markdown",
   "metadata": {},
   "source": [
    "Install to python via : pip install yahoofinancials"
   ]
  },
  {
   "cell_type": "markdown",
   "metadata": {},
   "source": [
    "## Import YahooFinancials to work with Python"
   ]
  },
  {
   "cell_type": "code",
   "execution_count": 3,
   "metadata": {},
   "outputs": [],
   "source": [
    "from yahoofinancials import YahooFinancials"
   ]
  },
  {
   "cell_type": "markdown",
   "metadata": {},
   "source": [
    "# Import packages useful for data manipulation in Python"
   ]
  },
  {
   "cell_type": "code",
   "execution_count": 4,
   "metadata": {},
   "outputs": [],
   "source": [
    "import numpy as np\n",
    "import pandas as pd"
   ]
  },
  {
   "cell_type": "markdown",
   "metadata": {},
   "source": [
    "# Firms of Interest"
   ]
  },
  {
   "cell_type": "code",
   "execution_count": 5,
   "metadata": {},
   "outputs": [],
   "source": [
    "#Alphabet Ticker: GOOGL\n",
    "googltickr = 'GOOGL'"
   ]
  },
  {
   "cell_type": "code",
   "execution_count": 6,
   "metadata": {},
   "outputs": [],
   "source": [
    "#Ford Ticker: F\n",
    "fordtickr = 'F'"
   ]
  },
  {
   "cell_type": "code",
   "execution_count": 7,
   "metadata": {},
   "outputs": [],
   "source": [
    "#Walmart Ticker: WMT\n",
    "wmttickr = 'WMT'"
   ]
  },
  {
   "cell_type": "markdown",
   "metadata": {},
   "source": [
    "# Obtain Quarterly Balance Sheet Data and Income Statement Data from YahooFinancials"
   ]
  },
  {
   "cell_type": "markdown",
   "metadata": {},
   "source": [
    "### Google Quarterly Data"
   ]
  },
  {
   "cell_type": "code",
   "execution_count": 8,
   "metadata": {},
   "outputs": [],
   "source": [
    "#from yahoo\n",
    "yahoo_financials_alphabet = YahooFinancials(googltickr)\n",
    "balance_sheet_data_qt_alphabet = yahoo_financials_alphabet.get_financial_stmts('quarterly','balance')\n",
    "income_statement_data_qt_alphabet = yahoo_financials_alphabet.get_financial_stmts('quarterly', 'income')"
   ]
  },
  {
   "cell_type": "markdown",
   "metadata": {},
   "source": [
    "### Ford Quarterly Data"
   ]
  },
  {
   "cell_type": "code",
   "execution_count": 9,
   "metadata": {},
   "outputs": [],
   "source": [
    "yahoo_financials_ford = YahooFinancials(fordtickr)\n",
    "balance_sheet_data_qt_ford = yahoo_financials_ford.get_financial_stmts('quarterly','balance')\n",
    "income_statement_data_qt_ford = yahoo_financials_ford.get_financial_stmts('quarterly', 'income')"
   ]
  },
  {
   "cell_type": "markdown",
   "metadata": {},
   "source": [
    "### Walmart Quarterly Data"
   ]
  },
  {
   "cell_type": "code",
   "execution_count": 10,
   "metadata": {},
   "outputs": [],
   "source": [
    "yahoo_financials_wmt = YahooFinancials(wmttickr)\n",
    "balance_sheet_data_qt_wmt = yahoo_financials_wmt.get_financial_stmts('quarterly','balance')\n",
    "income_statement_data_qt_wmt = yahoo_financials_wmt.get_financial_stmts('quarterly', 'income')"
   ]
  },
  {
   "cell_type": "markdown",
   "metadata": {},
   "source": [
    "# Example: Display Balance Sheet Data for Alphabet"
   ]
  },
  {
   "cell_type": "code",
   "execution_count": 11,
   "metadata": {},
   "outputs": [
    {
     "data": {
      "text/plain": [
       "{'balanceSheetHistoryQuarterly': {'WMT': [{'2019-04-30': {'accountsPayable': 45110000000,\n",
       "     'capitalSurplus': 2734000000,\n",
       "     'cash': 9255000000,\n",
       "     'commonStock': 286000000,\n",
       "     'goodWill': 31416000000,\n",
       "     'inventory': 44751000000,\n",
       "     'longTermDebt': 63144000000,\n",
       "     'minorityInterest': 6705000000,\n",
       "     'netReceivables': 5342000000,\n",
       "     'netTangibleAssets': 36789000000,\n",
       "     'otherAssets': 16148000000,\n",
       "     'otherCurrentLiab': 5280000000,\n",
       "     'otherLiab': 12792000000,\n",
       "     'otherStockholderEquity': -11091000000,\n",
       "     'propertyPlantEquipment': 125241000000,\n",
       "     'retainedEarnings': 76276000000,\n",
       "     'shortLongTermDebt': 3212000000,\n",
       "     'totalAssets': 234544000000,\n",
       "     'totalCurrentAssets': 61739000000,\n",
       "     'totalCurrentLiabilities': 79888000000,\n",
       "     'totalLiab': 159634000000,\n",
       "     'totalStockholderEquity': 68205000000,\n",
       "     'treasuryStock': -11091000000}},\n",
       "   {'2019-01-31': {'accountsPayable': 47060000000,\n",
       "     'capitalSurplus': 2965000000,\n",
       "     'cash': 7722000000,\n",
       "     'commonStock': 288000000,\n",
       "     'deferredLongTermAssetCharges': 1796000000,\n",
       "     'goodWill': 31181000000,\n",
       "     'inventory': 44269000000,\n",
       "     'longTermDebt': 43948000000,\n",
       "     'longTermInvestments': 3995000000,\n",
       "     'minorityInterest': 7138000000,\n",
       "     'netReceivables': 6283000000,\n",
       "     'netTangibleAssets': 41315000000,\n",
       "     'otherAssets': 10827000000,\n",
       "     'otherCurrentAssets': 34000000,\n",
       "     'otherCurrentLiab': 2360000000,\n",
       "     'otherLiab': 11553000000,\n",
       "     'otherStockholderEquity': -11542000000,\n",
       "     'propertyPlantEquipment': 111395000000,\n",
       "     'retainedEarnings': 80785000000,\n",
       "     'shortLongTermDebt': 1876000000,\n",
       "     'totalAssets': 219295000000,\n",
       "     'totalCurrentAssets': 61897000000,\n",
       "     'totalCurrentLiabilities': 77477000000,\n",
       "     'totalLiab': 139661000000,\n",
       "     'totalStockholderEquity': 72496000000,\n",
       "     'treasuryStock': -11542000000}},\n",
       "   {'2018-10-31': {'accountsPayable': 49729000000,\n",
       "     'capitalSurplus': 2887000000,\n",
       "     'cash': 9174000000,\n",
       "     'commonStock': 291000000,\n",
       "     'goodWill': 31044000000,\n",
       "     'inventory': 50380000000,\n",
       "     'longTermDebt': 43745000000,\n",
       "     'longTermInvestments': 3816000000,\n",
       "     'minorityInterest': 7473000000,\n",
       "     'netReceivables': 5785000000,\n",
       "     'netTangibleAssets': 40952000000,\n",
       "     'otherAssets': 10928000000,\n",
       "     'otherCurrentLiab': 4100000000,\n",
       "     'otherLiab': 10997000000,\n",
       "     'otherStockholderEquity': -11469000000,\n",
       "     'propertyPlantEquipment': 111349000000,\n",
       "     'retainedEarnings': 80287000000,\n",
       "     'shortLongTermDebt': 2591000000,\n",
       "     'totalAssets': 226583000000,\n",
       "     'totalCurrentAssets': 69446000000,\n",
       "     'totalCurrentLiabilities': 85751000000,\n",
       "     'totalLiab': 147114000000,\n",
       "     'totalStockholderEquity': 71996000000,\n",
       "     'treasuryStock': -11469000000}},\n",
       "   {'2018-07-31': {'accountsPayable': 43128000000,\n",
       "     'capitalSurplus': 2710000000,\n",
       "     'cash': 15840000000,\n",
       "     'commonStock': 294000000,\n",
       "     'goodWill': 17840000000,\n",
       "     'inventory': 41985000000,\n",
       "     'longTermDebt': 45326000000,\n",
       "     'longTermInvestments': 5613000000,\n",
       "     'minorityInterest': 2627000000,\n",
       "     'netReceivables': 5002000000,\n",
       "     'netTangibleAssets': 53345000000,\n",
       "     'otherAssets': 5222000000,\n",
       "     'otherCurrentLiab': 5334000000,\n",
       "     'otherLiab': 8631000000,\n",
       "     'otherStockholderEquity': -12629000000,\n",
       "     'propertyPlantEquipment': 111017000000,\n",
       "     'retainedEarnings': 80810000000,\n",
       "     'shortLongTermDebt': 1090000000,\n",
       "     'totalAssets': 206062000000,\n",
       "     'totalCurrentAssets': 66370000000,\n",
       "     'totalCurrentLiabilities': 71683000000,\n",
       "     'totalLiab': 132250000000,\n",
       "     'totalStockholderEquity': 71185000000,\n",
       "     'treasuryStock': -12629000000}}]}}"
      ]
     },
     "execution_count": 11,
     "metadata": {},
     "output_type": "execute_result"
    }
   ],
   "source": [
    "balance_sheet_data_qt_wmt"
   ]
  },
  {
   "cell_type": "markdown",
   "metadata": {},
   "source": [
    "# Summary of Financial Ratios"
   ]
  },
  {
   "cell_type": "markdown",
   "metadata": {},
   "source": [
    "The first step in a financial analysis typically includes an evaluation of the firm's ratios which are designed to show relationships between financial statement accounts *within* firms and *between* firms. "
   ]
  },
  {
   "cell_type": "markdown",
   "metadata": {},
   "source": [
    "# Liquidity Ratios"
   ]
  },
  {
   "cell_type": "markdown",
   "metadata": {},
   "source": [
    "Ratios that show the relationship of a firm's cash and other current assets to its current liabilities; they provide an indication of the firm's ability to meet its current obligations."
   ]
  },
  {
   "cell_type": "markdown",
   "metadata": {},
   "source": [
    "A **liquid asset** is one that can be easily converted to cash without significant loss of its orignal value. Converting assets-- especially current assets such as inventory and receivables to cash is the primary means by which a firm obtains the funds needed to pay its current bills. \n",
    "A firm's *liquidity position* deals with the question of how well the company is able to meet its current obligations.\n",
    "Two commonly used **liquidity ratios** are discussed next."
   ]
  },
  {
   "cell_type": "markdown",
   "metadata": {},
   "source": [
    "## Current Ratio"
   ]
  },
  {
   "cell_type": "markdown",
   "metadata": {},
   "source": [
    "$Current\\,Ratio = \\frac{Current \\, assets}{Current \\, liabilities}$"
   ]
  },
  {
   "cell_type": "markdown",
   "metadata": {},
   "source": [
    "Current ratio provides the best single indicator of the extent to which the claims of short-term creditos are covered by assets that are expected to be converted to cash fairly quickly, it is the most commonly used measure of short-term solvency."
   ]
  },
  {
   "cell_type": "markdown",
   "metadata": {},
   "source": [
    "### We begin by extracting the *Total Current Assets* from the data set we just created:"
   ]
  },
  {
   "cell_type": "markdown",
   "metadata": {},
   "source": [
    "### Alphabet Total Current Assets"
   ]
  },
  {
   "cell_type": "code",
   "execution_count": 12,
   "metadata": {},
   "outputs": [
    {
     "data": {
      "text/plain": [
       "138207000000"
      ]
     },
     "execution_count": 12,
     "metadata": {},
     "output_type": "execute_result"
    }
   ],
   "source": [
    "total_current_assets_alphabet = balance_sheet_data_qt_alphabet['balanceSheetHistoryQuarterly'][\"GOOGL\"][0]['2019-03-31']['totalCurrentAssets']\n",
    "total_current_assets_alphabet"
   ]
  },
  {
   "cell_type": "markdown",
   "metadata": {},
   "source": [
    "### Ford Total Current Assets"
   ]
  },
  {
   "cell_type": "code",
   "execution_count": 13,
   "metadata": {},
   "outputs": [
    {
     "data": {
      "text/plain": [
       "121195000000"
      ]
     },
     "execution_count": 13,
     "metadata": {},
     "output_type": "execute_result"
    }
   ],
   "source": [
    "total_current_assets_ford = balance_sheet_data_qt_ford['balanceSheetHistoryQuarterly'][\"F\"][0]['2019-03-31']['totalCurrentAssets']\n",
    "total_current_assets_ford"
   ]
  },
  {
   "cell_type": "markdown",
   "metadata": {},
   "source": [
    "### Walmart Total Current Assets"
   ]
  },
  {
   "cell_type": "code",
   "execution_count": 14,
   "metadata": {},
   "outputs": [
    {
     "data": {
      "text/plain": [
       "61739000000"
      ]
     },
     "execution_count": 14,
     "metadata": {},
     "output_type": "execute_result"
    }
   ],
   "source": [
    "total_current_assets_wmt = balance_sheet_data_qt_wmt['balanceSheetHistoryQuarterly'][\"WMT\"][0]['2019-04-30']['totalCurrentAssets']\n",
    "total_current_assets_wmt"
   ]
  },
  {
   "cell_type": "markdown",
   "metadata": {},
   "source": [
    "### Now that the Total Current Assets are displayed we extract the *Current Liabilities* associated to each firm"
   ]
  },
  {
   "cell_type": "markdown",
   "metadata": {},
   "source": [
    "### Alphabet Current Liabilities"
   ]
  },
  {
   "cell_type": "code",
   "execution_count": 15,
   "metadata": {},
   "outputs": [
    {
     "data": {
      "text/plain": [
       "34910000000"
      ]
     },
     "execution_count": 15,
     "metadata": {},
     "output_type": "execute_result"
    }
   ],
   "source": [
    "total_current_liabilities_alphabet = balance_sheet_data_qt_alphabet['balanceSheetHistoryQuarterly'][\"GOOGL\"][0]['2019-03-31']['totalCurrentLiabilities']\n",
    "total_current_liabilities_alphabet"
   ]
  },
  {
   "cell_type": "markdown",
   "metadata": {},
   "source": [
    "### Ford Current Liabilities"
   ]
  },
  {
   "cell_type": "code",
   "execution_count": 16,
   "metadata": {},
   "outputs": [
    {
     "data": {
      "text/plain": [
       "99237000000"
      ]
     },
     "execution_count": 16,
     "metadata": {},
     "output_type": "execute_result"
    }
   ],
   "source": [
    "total_current_liabilities_ford = balance_sheet_data_qt_ford['balanceSheetHistoryQuarterly'][\"F\"][0]['2019-03-31']['totalCurrentLiabilities']\n",
    "total_current_liabilities_ford"
   ]
  },
  {
   "cell_type": "markdown",
   "metadata": {},
   "source": [
    "### Walmart Current Liabilities"
   ]
  },
  {
   "cell_type": "code",
   "execution_count": 17,
   "metadata": {},
   "outputs": [
    {
     "data": {
      "text/plain": [
       "79888000000"
      ]
     },
     "execution_count": 17,
     "metadata": {},
     "output_type": "execute_result"
    }
   ],
   "source": [
    "total_current_liabilities_wmt = balance_sheet_data_qt_wmt['balanceSheetHistoryQuarterly'][\"WMT\"][0]['2019-04-30']['totalCurrentLiabilities']\n",
    "total_current_liabilities_wmt"
   ]
  },
  {
   "cell_type": "markdown",
   "metadata": {},
   "source": [
    "# We now compute the Current Ratio "
   ]
  },
  {
   "cell_type": "markdown",
   "metadata": {},
   "source": [
    "### $Current\\,Ratio = \\frac{Current \\, assets}{Current \\, liabilities}$"
   ]
  },
  {
   "cell_type": "markdown",
   "metadata": {},
   "source": [
    "### Current Ratio Alphabet"
   ]
  },
  {
   "cell_type": "code",
   "execution_count": 18,
   "metadata": {},
   "outputs": [
    {
     "name": "stdout",
     "output_type": "stream",
     "text": [
      "3.958951589802349\n"
     ]
    }
   ],
   "source": [
    "current_ratio_alphabet = (total_current_assets_alphabet) / (total_current_liabilities_alphabet)\n",
    "print(current_ratio_alphabet)"
   ]
  },
  {
   "cell_type": "markdown",
   "metadata": {},
   "source": [
    "### Current Ratio Ford"
   ]
  },
  {
   "cell_type": "code",
   "execution_count": 19,
   "metadata": {},
   "outputs": [
    {
     "name": "stdout",
     "output_type": "stream",
     "text": [
      "1.2212682769531527\n"
     ]
    }
   ],
   "source": [
    "current_ratio_ford = (total_current_assets_ford) / (total_current_liabilities_ford)\n",
    "print(current_ratio_ford)"
   ]
  },
  {
   "cell_type": "markdown",
   "metadata": {},
   "source": [
    "### Current Ratio Walmart"
   ]
  },
  {
   "cell_type": "code",
   "execution_count": 20,
   "metadata": {},
   "outputs": [
    {
     "name": "stdout",
     "output_type": "stream",
     "text": [
      "0.7728194472261166\n"
     ]
    }
   ],
   "source": [
    "current_ratio_wmt = (total_current_assets_wmt) / (total_current_liabilities_wmt)\n",
    "print(current_ratio_wmt)"
   ]
  },
  {
   "cell_type": "markdown",
   "metadata": {},
   "source": [
    "## Quick Ratio"
   ]
  },
  {
   "cell_type": "markdown",
   "metadata": {},
   "source": [
    "$Quick \\,Ratio = \\frac{Current Assets\\,-\\,Inventories}{Current\\,Liabilities}$"
   ]
  },
  {
   "cell_type": "markdown",
   "metadata": {},
   "source": [
    "Since inventories are the least liquid of a firm's current assets, they are the assets on which losses are most likely to occur in the event of an \"emergency\" liquidation. Having a measure of the firm's ability to pay off short-term obligations without relying on the sale of inventories is important. Now it is necessary to extract the inventory data of each firm from the quarterly datasets."
   ]
  },
  {
   "cell_type": "markdown",
   "metadata": {},
   "source": [
    "## Import Inventory Data From Each Firm"
   ]
  },
  {
   "cell_type": "markdown",
   "metadata": {},
   "source": [
    "### Alphabet Inventory:"
   ]
  },
  {
   "cell_type": "code",
   "execution_count": 21,
   "metadata": {},
   "outputs": [
    {
     "name": "stdout",
     "output_type": "stream",
     "text": [
      "1053000000\n"
     ]
    }
   ],
   "source": [
    "inventory_alphabet = balance_sheet_data_qt_alphabet['balanceSheetHistoryQuarterly'][\"GOOGL\"][0]['2019-03-31']['inventory']\n",
    "print(inventory_alphabet)"
   ]
  },
  {
   "cell_type": "markdown",
   "metadata": {},
   "source": [
    "### Ford Inventory:"
   ]
  },
  {
   "cell_type": "code",
   "execution_count": 22,
   "metadata": {},
   "outputs": [
    {
     "name": "stdout",
     "output_type": "stream",
     "text": [
      "12333000000\n"
     ]
    }
   ],
   "source": [
    "inventory_ford = balance_sheet_data_qt_ford['balanceSheetHistoryQuarterly'][\"F\"][0]['2019-03-31']['inventory']\n",
    "print(inventory_ford)"
   ]
  },
  {
   "cell_type": "markdown",
   "metadata": {},
   "source": [
    "### Walmart Inventory:"
   ]
  },
  {
   "cell_type": "code",
   "execution_count": 23,
   "metadata": {},
   "outputs": [
    {
     "name": "stdout",
     "output_type": "stream",
     "text": [
      "44751000000\n"
     ]
    }
   ],
   "source": [
    "inventory_wmt = balance_sheet_data_qt_wmt['balanceSheetHistoryQuarterly'][\"WMT\"][0]['2019-04-30']['inventory']\n",
    "print(inventory_wmt)"
   ]
  },
  {
   "cell_type": "markdown",
   "metadata": {},
   "source": [
    "# Quick Ratio Calculations:"
   ]
  },
  {
   "cell_type": "markdown",
   "metadata": {},
   "source": [
    "## Quick Ratio Alphabet"
   ]
  },
  {
   "cell_type": "code",
   "execution_count": 24,
   "metadata": {},
   "outputs": [
    {
     "data": {
      "text/plain": [
       "3.928788312804354"
      ]
     },
     "execution_count": 24,
     "metadata": {},
     "output_type": "execute_result"
    }
   ],
   "source": [
    "quick_ratio_alphabet = (total_current_assets_alphabet - inventory_alphabet) / (total_current_liabilities_alphabet)\n",
    "quick_ratio_alphabet"
   ]
  },
  {
   "cell_type": "markdown",
   "metadata": {},
   "source": [
    "### Quick Ratio Ford:"
   ]
  },
  {
   "cell_type": "code",
   "execution_count": 25,
   "metadata": {},
   "outputs": [
    {
     "data": {
      "text/plain": [
       "1.096990033959108"
      ]
     },
     "execution_count": 25,
     "metadata": {},
     "output_type": "execute_result"
    }
   ],
   "source": [
    "quick_ratio_ford = (total_current_assets_ford - inventory_ford) / (total_current_liabilities_ford)\n",
    "quick_ratio_ford"
   ]
  },
  {
   "cell_type": "markdown",
   "metadata": {},
   "source": [
    "### Quick Ratio Walmart:"
   ]
  },
  {
   "cell_type": "code",
   "execution_count": 26,
   "metadata": {},
   "outputs": [
    {
     "data": {
      "text/plain": [
       "0.21264770678950531"
      ]
     },
     "execution_count": 26,
     "metadata": {},
     "output_type": "execute_result"
    }
   ],
   "source": [
    "quick_ratio_wmt = (total_current_assets_wmt - inventory_wmt) / (total_current_liabilities_wmt)\n",
    "quick_ratio_wmt"
   ]
  },
  {
   "cell_type": "markdown",
   "metadata": {},
   "source": [
    "# Asset Management Ratios"
   ]
  },
  {
   "cell_type": "markdown",
   "metadata": {},
   "source": [
    "Asset management ratios measure how effectively the firm is managing its assets. In general, these ratios are designed to answer the following question: Does the total amount of each type of asset as reported on the balance sheet seem reasonable, too high, or too low in view of current and projected sales levels?"
   ]
  },
  {
   "cell_type": "markdown",
   "metadata": {},
   "source": [
    "## Inventory Turnover"
   ]
  },
  {
   "cell_type": "markdown",
   "metadata": {},
   "source": [
    "$ Inventory\\, Turnover = \\frac{Cost\\,of\\,goods\\,sold}{Inventory} $"
   ]
  },
  {
   "cell_type": "markdown",
   "metadata": {},
   "source": [
    "Inventory turnover provides an indication of how well the firm is managing its inventory.Now we must import the cost of goods sold for each firm."
   ]
  },
  {
   "cell_type": "markdown",
   "metadata": {},
   "source": [
    "### Alphabet Cost of Goods Sold:"
   ]
  },
  {
   "cell_type": "code",
   "execution_count": 47,
   "metadata": {},
   "outputs": [
    {
     "data": {
      "text/plain": [
       "59549000000"
      ]
     },
     "execution_count": 47,
     "metadata": {},
     "output_type": "execute_result"
    }
   ],
   "source": [
    "cost_of_rev_alphabet = yahoo_financials_alphabet.get_cost_of_revenue() \n",
    "cost_of_rev_alphabet"
   ]
  },
  {
   "cell_type": "markdown",
   "metadata": {},
   "source": [
    "### Ford Cost of Goods Sold:"
   ]
  },
  {
   "cell_type": "code",
   "execution_count": 32,
   "metadata": {},
   "outputs": [
    {
     "data": {
      "text/plain": [
       "145459000000"
      ]
     },
     "execution_count": 32,
     "metadata": {},
     "output_type": "execute_result"
    }
   ],
   "source": [
    "cost_of_rev_ford = yahoo_financials_ford.get_cost_of_revenue() \n",
    "cost_of_rev_ford"
   ]
  },
  {
   "cell_type": "markdown",
   "metadata": {},
   "source": [
    "### Walmart Cost of Goods Sold:"
   ]
  },
  {
   "cell_type": "code",
   "execution_count": 33,
   "metadata": {},
   "outputs": [
    {
     "data": {
      "text/plain": [
       "385301000000"
      ]
     },
     "execution_count": 33,
     "metadata": {},
     "output_type": "execute_result"
    }
   ],
   "source": [
    "cost_of_rev_wmt = yahoo_financials_wmt.get_cost_of_revenue() \n",
    "cost_of_rev_wmt"
   ]
  },
  {
   "cell_type": "markdown",
   "metadata": {},
   "source": [
    "# Inventory Turnover Calculations"
   ]
  },
  {
   "cell_type": "markdown",
   "metadata": {},
   "source": [
    "## Inventory Turnover Alphabet:"
   ]
  },
  {
   "cell_type": "code",
   "execution_count": 34,
   "metadata": {},
   "outputs": [
    {
     "data": {
      "text/plain": [
       "56.55175688509022"
      ]
     },
     "execution_count": 34,
     "metadata": {},
     "output_type": "execute_result"
    }
   ],
   "source": [
    "inventory_turnover_alphabet = cost_of_rev_alphabet / inventory_alphabet\n",
    "inventory_turnover_alphabet"
   ]
  },
  {
   "cell_type": "markdown",
   "metadata": {},
   "source": [
    "## Inventory Turnover Ford"
   ]
  },
  {
   "cell_type": "code",
   "execution_count": 35,
   "metadata": {},
   "outputs": [
    {
     "data": {
      "text/plain": [
       "11.79429173761453"
      ]
     },
     "execution_count": 35,
     "metadata": {},
     "output_type": "execute_result"
    }
   ],
   "source": [
    "inventory_turnover_ford = cost_of_rev_ford / inventory_ford\n",
    "inventory_turnover_ford"
   ]
  },
  {
   "cell_type": "markdown",
   "metadata": {},
   "source": [
    "## Inventory Turnover Walmart"
   ]
  },
  {
   "cell_type": "code",
   "execution_count": 37,
   "metadata": {},
   "outputs": [
    {
     "data": {
      "text/plain": [
       "8.609885812607539"
      ]
     },
     "execution_count": 37,
     "metadata": {},
     "output_type": "execute_result"
    }
   ],
   "source": [
    "inventory_turnover_wmt = cost_of_rev_wmt / inventory_wmt\n",
    "inventory_turnover_wmt"
   ]
  },
  {
   "cell_type": "markdown",
   "metadata": {},
   "source": [
    "# Days Sales Outstanding Ratio"
   ]
  },
  {
   "cell_type": "markdown",
   "metadata": {},
   "source": [
    "$ Days\\,Sales\\,Outstanding = \\frac{Accounts\\,Receivable}{\\frac{Annual\\,Sales}{360}} $"
   ]
  },
  {
   "cell_type": "markdown",
   "metadata": {},
   "source": [
    "Days Sales Outstanding, also called the average collection period (ACP) is used to evaluate the firm's ability to collect its credit sales in a timely manner. The DSO represents the average length of time that the firm must wait after making a credit sale before receiving cash. "
   ]
  },
  {
   "cell_type": "markdown",
   "metadata": {},
   "source": [
    "## To calculate Days Sales Outstanding we need Accounts Receivable and Annual Sales Data\n",
    "### Import the accounts receivable data for each firm"
   ]
  },
  {
   "cell_type": "markdown",
   "metadata": {},
   "source": [
    "## Accounts Receivable Alphabet:"
   ]
  },
  {
   "cell_type": "code",
   "execution_count": 49,
   "metadata": {},
   "outputs": [
    {
     "name": "stdout",
     "output_type": "stream",
     "text": [
      "19260000000\n"
     ]
    }
   ],
   "source": [
    "accounts_receivable_alphabet = balance_sheet_data_qt_alphabet['balanceSheetHistoryQuarterly'][\"GOOGL\"][0]['2019-03-31']['netReceivables']\n",
    "print(accounts_receivable_alphabet)"
   ]
  },
  {
   "cell_type": "markdown",
   "metadata": {},
   "source": [
    "## Accounts Receivable Ford:"
   ]
  },
  {
   "cell_type": "code",
   "execution_count": 39,
   "metadata": {},
   "outputs": [
    {
     "name": "stdout",
     "output_type": "stream",
     "text": [
      "3837000000\n"
     ]
    }
   ],
   "source": [
    "accounts_receivable_ford = balance_sheet_data_qt_ford['balanceSheetHistoryQuarterly'][\"F\"][0]['2019-03-31']['netReceivables']\n",
    "print(accounts_receivable_ford)"
   ]
  },
  {
   "cell_type": "markdown",
   "metadata": {},
   "source": [
    "## Accounts Receivable Walmart:"
   ]
  },
  {
   "cell_type": "code",
   "execution_count": 40,
   "metadata": {},
   "outputs": [
    {
     "name": "stdout",
     "output_type": "stream",
     "text": [
      "5342000000\n"
     ]
    }
   ],
   "source": [
    "accounts_receivable_wmt = balance_sheet_data_qt_wmt['balanceSheetHistoryQuarterly'][\"WMT\"][0]['2019-04-30']['netReceivables']\n",
    "print(accounts_receivable_wmt)"
   ]
  },
  {
   "cell_type": "markdown",
   "metadata": {},
   "source": [
    "### Import annual sales data from each firm:"
   ]
  },
  {
   "cell_type": "markdown",
   "metadata": {},
   "source": [
    "## Annual Sales Data Alphabet"
   ]
  },
  {
   "cell_type": "code",
   "execution_count": 41,
   "metadata": {},
   "outputs": [
    {
     "name": "stdout",
     "output_type": "stream",
     "text": [
      "36339000000\n"
     ]
    }
   ],
   "source": [
    "annual_sales_alphabet = income_statement_data_qt_alphabet['incomeStatementHistoryQuarterly'][\"GOOGL\"][0]['2019-03-31']['totalRevenue']\n",
    "print(annual_sales_alphabet)\n"
   ]
  },
  {
   "cell_type": "markdown",
   "metadata": {},
   "source": [
    "## Annual Sales Data Ford"
   ]
  },
  {
   "cell_type": "code",
   "execution_count": 50,
   "metadata": {},
   "outputs": [
    {
     "name": "stdout",
     "output_type": "stream",
     "text": [
      "40342000000\n"
     ]
    }
   ],
   "source": [
    "annual_sales_ford = income_statement_data_qt_ford['incomeStatementHistoryQuarterly'][\"F\"][0]['2019-03-31']['totalRevenue']\n",
    "print(annual_sales_ford)"
   ]
  },
  {
   "cell_type": "markdown",
   "metadata": {},
   "source": [
    "## Annual Sales Data Walmart"
   ]
  },
  {
   "cell_type": "code",
   "execution_count": 51,
   "metadata": {},
   "outputs": [
    {
     "name": "stdout",
     "output_type": "stream",
     "text": [
      "123925000000\n"
     ]
    }
   ],
   "source": [
    "annual_sales_wmt = income_statement_data_qt_wmt['incomeStatementHistoryQuarterly'][\"WMT\"][0]['2019-04-30']['totalRevenue']\n",
    "print(annual_sales_wmt)"
   ]
  },
  {
   "cell_type": "markdown",
   "metadata": {},
   "source": [
    "# Days Sales Outstanding Calculation"
   ]
  },
  {
   "cell_type": "markdown",
   "metadata": {},
   "source": [
    "## Days Sales Outstanding Alphabet"
   ]
  },
  {
   "cell_type": "code",
   "execution_count": 44,
   "metadata": {},
   "outputs": [
    {
     "name": "stdout",
     "output_type": "stream",
     "text": [
      "190.80326921489308\n"
     ]
    }
   ],
   "source": [
    "days_sales_outstanding_alphabet = (accounts_receivable_alphabet) / (annual_sales_alphabet / 360)\n",
    "print(days_sales_outstanding_alphabet)"
   ]
  },
  {
   "cell_type": "markdown",
   "metadata": {},
   "source": [
    "## Days Sales Outstanding Ford"
   ]
  },
  {
   "cell_type": "code",
   "execution_count": 45,
   "metadata": {},
   "outputs": [
    {
     "name": "stdout",
     "output_type": "stream",
     "text": [
      "34.24024589757573\n"
     ]
    }
   ],
   "source": [
    "days_sales_outstanding_ford = (accounts_receivable_ford) / (annual_sales_ford / 360)\n",
    "print(days_sales_outstanding_ford)"
   ]
  },
  {
   "cell_type": "markdown",
   "metadata": {},
   "source": [
    "## Days Sales Outstanding Walmart"
   ]
  },
  {
   "cell_type": "code",
   "execution_count": 48,
   "metadata": {},
   "outputs": [
    {
     "name": "stdout",
     "output_type": "stream",
     "text": [
      "15.518418398224734\n"
     ]
    }
   ],
   "source": [
    "days_sales_outstanding_wmt = (accounts_receivable_wmt) / (annual_sales_wmt / 360)\n",
    "print(days_sales_outstanding_wmt)"
   ]
  },
  {
   "cell_type": "markdown",
   "metadata": {},
   "source": [
    "# Fixed Assets Turnover"
   ]
  },
  {
   "cell_type": "markdown",
   "metadata": {},
   "source": [
    "$Fixed\\,Assets\\,Turnover = \\frac{Sales}{Net\\,Fixed\\,Assets}$ "
   ]
  },
  {
   "cell_type": "markdown",
   "metadata": {},
   "source": [
    "Fixed assets turnover measures how effectively the firm uses its plant and equipment to help generate sales. "
   ]
  },
  {
   "cell_type": "code",
   "execution_count": null,
   "metadata": {},
   "outputs": [],
   "source": []
  },
  {
   "cell_type": "code",
   "execution_count": null,
   "metadata": {},
   "outputs": [],
   "source": []
  },
  {
   "cell_type": "markdown",
   "metadata": {},
   "source": [
    "# Total Assets Turnover"
   ]
  },
  {
   "cell_type": "markdown",
   "metadata": {},
   "source": [
    "$Total\\,Assets\\,Turnover = \\frac{Sales}{Total\\,Assets}$ "
   ]
  },
  {
   "cell_type": "code",
   "execution_count": null,
   "metadata": {},
   "outputs": [],
   "source": []
  },
  {
   "cell_type": "code",
   "execution_count": null,
   "metadata": {},
   "outputs": [],
   "source": []
  },
  {
   "cell_type": "code",
   "execution_count": null,
   "metadata": {},
   "outputs": [],
   "source": []
  },
  {
   "cell_type": "code",
   "execution_count": null,
   "metadata": {},
   "outputs": [],
   "source": []
  },
  {
   "cell_type": "code",
   "execution_count": null,
   "metadata": {},
   "outputs": [],
   "source": []
  },
  {
   "cell_type": "code",
   "execution_count": null,
   "metadata": {},
   "outputs": [],
   "source": []
  }
 ],
 "metadata": {
  "kernelspec": {
   "display_name": "Python 3",
   "language": "python",
   "name": "python3"
  },
  "language_info": {
   "codemirror_mode": {
    "name": "ipython",
    "version": 3
   },
   "file_extension": ".py",
   "mimetype": "text/x-python",
   "name": "python",
   "nbconvert_exporter": "python",
   "pygments_lexer": "ipython3",
   "version": "3.6.8"
  }
 },
 "nbformat": 4,
 "nbformat_minor": 2
}
