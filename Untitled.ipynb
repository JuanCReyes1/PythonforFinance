{
 "cells": [
  {
   "cell_type": "code",
   "execution_count": 72,
   "metadata": {},
   "outputs": [],
   "source": [
    "import numpy as np\n",
    "import pandas as pd"
   ]
  },
  {
   "cell_type": "code",
   "execution_count": 73,
   "metadata": {},
   "outputs": [],
   "source": [
    "from yahoofinancials import YahooFinancials"
   ]
  },
  {
   "cell_type": "code",
   "execution_count": 74,
   "metadata": {},
   "outputs": [],
   "source": [
    "ticker = 'AAPL'\n",
    "yahoo_financials = YahooFinancials(ticker)\n"
   ]
  },
  {
   "cell_type": "code",
   "execution_count": 75,
   "metadata": {},
   "outputs": [],
   "source": [
    "balance_sheet_data_qt = yahoo_financials.get_financial_stmts('quarterly', 'balance')\n",
    "income_statement_data_qt = yahoo_financials.get_financial_stmts('quarterly', 'income')\n",
    "all_statement_data_qt =  yahoo_financials.get_financial_stmts('quarterly', ['income', 'cash', 'balance'])\n",
    "apple_earnings_data = yahoo_financials.get_stock_earnings_data()\n",
    "apple_net_income = yahoo_financials.get_net_income()\n",
    "historical_stock_prices = yahoo_financials.get_historical_price_data('2008-09-15', '2018-09-15', 'weekly')"
   ]
  },
  {
   "cell_type": "code",
   "execution_count": 92,
   "metadata": {},
   "outputs": [
    {
     "data": {
      "text/plain": [
       "{'balanceSheetHistoryQuarterly': {'AAPL': [{'2019-03-30': {'accountsPayable': 30443000000,\n",
       "     'cash': 37988000000,\n",
       "     'commonStock': 42801000000,\n",
       "     'inventory': 4884000000,\n",
       "     'longTermDebt': 90201000000,\n",
       "     'longTermInvestments': 145319000000,\n",
       "     'netReceivables': 26278000000,\n",
       "     'netTangibleAssets': 105860000000,\n",
       "     'otherAssets': 34587000000,\n",
       "     'otherCurrentAssets': 12092000000,\n",
       "     'otherCurrentLiab': 40900000000,\n",
       "     'otherLiab': 52165000000,\n",
       "     'otherStockholderEquity': -1499000000,\n",
       "     'propertyPlantEquipment': 38746000000,\n",
       "     'retainedEarnings': 64558000000,\n",
       "     'shortLongTermDebt': 10505000000,\n",
       "     'shortTermInvestments': 42104000000,\n",
       "     'totalAssets': 341998000000,\n",
       "     'totalCurrentAssets': 123346000000,\n",
       "     'totalCurrentLiabilities': 93772000000,\n",
       "     'totalLiab': 236138000000,\n",
       "     'totalStockholderEquity': 105860000000,\n",
       "     'treasuryStock': -1499000000}},\n",
       "   {'2018-12-29': {'accountsPayable': 44293000000,\n",
       "     'cash': 44771000000,\n",
       "     'commonStock': 40970000000,\n",
       "     'inventory': 4988000000,\n",
       "     'longTermDebt': 92989000000,\n",
       "     'longTermInvestments': 158608000000,\n",
       "     'netReceivables': 36981000000,\n",
       "     'netTangibleAssets': 117892000000,\n",
       "     'otherAssets': 34686000000,\n",
       "     'otherCurrentAssets': 12432000000,\n",
       "     'otherCurrentLiab': 42249000000,\n",
       "     'otherLiab': 54555000000,\n",
       "     'otherStockholderEquity': -3588000000,\n",
       "     'propertyPlantEquipment': 39597000000,\n",
       "     'retainedEarnings': 80510000000,\n",
       "     'shortLongTermDebt': 9772000000,\n",
       "     'shortTermInvestments': 41656000000,\n",
       "     'totalAssets': 373719000000,\n",
       "     'totalCurrentAssets': 140828000000,\n",
       "     'totalCurrentLiabilities': 108283000000,\n",
       "     'totalLiab': 255827000000,\n",
       "     'totalStockholderEquity': 117892000000,\n",
       "     'treasuryStock': -3588000000}},\n",
       "   {'2018-09-29': {'accountsPayable': 55888000000,\n",
       "     'cash': 25913000000,\n",
       "     'commonStock': 40201000000,\n",
       "     'inventory': 3956000000,\n",
       "     'longTermDebt': 93735000000,\n",
       "     'longTermInvestments': 170799000000,\n",
       "     'netReceivables': 48995000000,\n",
       "     'netTangibleAssets': 107147000000,\n",
       "     'otherAssets': 22283000000,\n",
       "     'otherCurrentAssets': 12087000000,\n",
       "     'otherCurrentLiab': 40230000000,\n",
       "     'otherLiab': 47977000000,\n",
       "     'otherStockholderEquity': -3454000000,\n",
       "     'propertyPlantEquipment': 41304000000,\n",
       "     'retainedEarnings': 70400000000,\n",
       "     'shortLongTermDebt': 8784000000,\n",
       "     'shortTermInvestments': 40388000000,\n",
       "     'totalAssets': 365725000000,\n",
       "     'totalCurrentAssets': 131339000000,\n",
       "     'totalCurrentLiabilities': 116866000000,\n",
       "     'totalLiab': 258578000000,\n",
       "     'totalStockholderEquity': 107147000000,\n",
       "     'treasuryStock': -3454000000}},\n",
       "   {'2018-06-30': {'accountsPayable': 38489000000,\n",
       "     'cash': 31971000000,\n",
       "     'commonStock': 38624000000,\n",
       "     'inventory': 5936000000,\n",
       "     'longTermDebt': 97128000000,\n",
       "     'longTermInvestments': 172773000000,\n",
       "     'netReceivables': 26367000000,\n",
       "     'netTangibleAssets': 114949000000,\n",
       "     'otherAssets': 22546000000,\n",
       "     'otherCurrentAssets': 12488000000,\n",
       "     'otherCurrentLiab': 7403000000,\n",
       "     'otherLiab': 48572000000,\n",
       "     'otherStockholderEquity': -3111000000,\n",
       "     'propertyPlantEquipment': 38117000000,\n",
       "     'retainedEarnings': 79436000000,\n",
       "     'shortLongTermDebt': 5498000000,\n",
       "     'shortTermInvestments': 38999000000,\n",
       "     'totalAssets': 349197000000,\n",
       "     'totalCurrentAssets': 115761000000,\n",
       "     'totalCurrentLiabilities': 88548000000,\n",
       "     'totalLiab': 234248000000,\n",
       "     'totalStockholderEquity': 114949000000,\n",
       "     'treasuryStock': -3111000000}}]}}"
      ]
     },
     "execution_count": 92,
     "metadata": {},
     "output_type": "execute_result"
    }
   ],
   "source": [
    "balance_sheet_data_qt"
   ]
  },
  {
   "cell_type": "code",
   "execution_count": 81,
   "metadata": {},
   "outputs": [
    {
     "data": {
      "text/plain": [
       "{'incomeStatementHistoryQuarterly': {'AAPL': [{'2019-03-30': {'costOfRevenue': 36194000000,\n",
       "     'discontinuedOperations': None,\n",
       "     'ebit': 13415000000,\n",
       "     'effectOfAccountingCharges': None,\n",
       "     'extraordinaryItems': None,\n",
       "     'grossProfit': 21821000000,\n",
       "     'incomeBeforeTax': 13793000000,\n",
       "     'incomeTaxExpense': 2232000000,\n",
       "     'interestExpense': -1010000000,\n",
       "     'minorityInterest': None,\n",
       "     'netIncome': 11561000000,\n",
       "     'netIncomeApplicableToCommonShares': 11561000000,\n",
       "     'netIncomeFromContinuingOps': 11561000000,\n",
       "     'nonRecurring': None,\n",
       "     'operatingIncome': 13415000000,\n",
       "     'otherItems': None,\n",
       "     'otherOperatingExpenses': None,\n",
       "     'researchDevelopment': 3948000000,\n",
       "     'sellingGeneralAdministrative': 4458000000,\n",
       "     'totalOperatingExpenses': 44600000000,\n",
       "     'totalOtherIncomeExpenseNet': 378000000,\n",
       "     'totalRevenue': 58015000000}},\n",
       "   {'2018-12-29': {'costOfRevenue': 52279000000,\n",
       "     'discontinuedOperations': None,\n",
       "     'ebit': 23346000000,\n",
       "     'effectOfAccountingCharges': None,\n",
       "     'extraordinaryItems': None,\n",
       "     'grossProfit': 32031000000,\n",
       "     'incomeBeforeTax': 23906000000,\n",
       "     'incomeTaxExpense': 3941000000,\n",
       "     'interestExpense': -890000000,\n",
       "     'minorityInterest': None,\n",
       "     'netIncome': 19965000000,\n",
       "     'netIncomeApplicableToCommonShares': 19965000000,\n",
       "     'netIncomeFromContinuingOps': 19965000000,\n",
       "     'nonRecurring': None,\n",
       "     'operatingIncome': 23346000000,\n",
       "     'otherItems': None,\n",
       "     'otherOperatingExpenses': None,\n",
       "     'researchDevelopment': 3902000000,\n",
       "     'sellingGeneralAdministrative': 4783000000,\n",
       "     'totalOperatingExpenses': 60964000000,\n",
       "     'totalOtherIncomeExpenseNet': 560000000,\n",
       "     'totalRevenue': 84310000000}},\n",
       "   {'2018-09-29': {'costOfRevenue': 38816000000,\n",
       "     'discontinuedOperations': None,\n",
       "     'ebit': 16118000000,\n",
       "     'effectOfAccountingCharges': None,\n",
       "     'extraordinaryItems': None,\n",
       "     'grossProfit': 24084000000,\n",
       "     'incomeBeforeTax': 16421000000,\n",
       "     'incomeTaxExpense': 2296000000,\n",
       "     'interestExpense': -868000000,\n",
       "     'minorityInterest': None,\n",
       "     'netIncome': 14125000000,\n",
       "     'netIncomeApplicableToCommonShares': 14125000000,\n",
       "     'netIncomeFromContinuingOps': 14125000000,\n",
       "     'nonRecurring': None,\n",
       "     'operatingIncome': 16118000000,\n",
       "     'otherItems': None,\n",
       "     'otherOperatingExpenses': None,\n",
       "     'researchDevelopment': 3750000000,\n",
       "     'sellingGeneralAdministrative': 4216000000,\n",
       "     'totalOperatingExpenses': 46782000000,\n",
       "     'totalOtherIncomeExpenseNet': 303000000,\n",
       "     'totalRevenue': 62900000000}},\n",
       "   {'2018-06-30': {'costOfRevenue': 32844000000,\n",
       "     'discontinuedOperations': None,\n",
       "     'ebit': 12612000000,\n",
       "     'effectOfAccountingCharges': None,\n",
       "     'extraordinaryItems': None,\n",
       "     'grossProfit': 20421000000,\n",
       "     'incomeBeforeTax': 13284000000,\n",
       "     'incomeTaxExpense': 1765000000,\n",
       "     'interestExpense': -846000000,\n",
       "     'minorityInterest': None,\n",
       "     'netIncome': 11519000000,\n",
       "     'netIncomeApplicableToCommonShares': 11519000000,\n",
       "     'netIncomeFromContinuingOps': 11519000000,\n",
       "     'nonRecurring': None,\n",
       "     'operatingIncome': 12612000000,\n",
       "     'otherItems': None,\n",
       "     'otherOperatingExpenses': None,\n",
       "     'researchDevelopment': 3701000000,\n",
       "     'sellingGeneralAdministrative': 4108000000,\n",
       "     'totalOperatingExpenses': 40653000000,\n",
       "     'totalOtherIncomeExpenseNet': 672000000,\n",
       "     'totalRevenue': 53265000000}}]}}"
      ]
     },
     "execution_count": 81,
     "metadata": {},
     "output_type": "execute_result"
    }
   ],
   "source": [
    "income_statement_data_qt"
   ]
  },
  {
   "cell_type": "code",
   "execution_count": 67,
   "metadata": {},
   "outputs": [],
   "source": [
    "totalcurrentassetsaapl = balance_sheet_data_qt['balanceSheetHistoryQuarterly'][\"AAPL\"][0]['2019-03-30']['totalCurrentAssets']"
   ]
  },
  {
   "cell_type": "code",
   "execution_count": 68,
   "metadata": {},
   "outputs": [],
   "source": [
    "totalCurrentLiabilities = balance_sheet_data_qt['balanceSheetHistoryQuarterly'][\"AAPL\"][0]['2019-03-30']['totalCurrentLiabilities']"
   ]
  },
  {
   "cell_type": "code",
   "execution_count": 69,
   "metadata": {},
   "outputs": [
    {
     "name": "stdout",
     "output_type": "stream",
     "text": [
      "1.3153819903595956\n"
     ]
    }
   ],
   "source": [
    "currentratio = totalcurrentassetsaapl / totalCurrentLiabilities\n",
    "print(currentratio)"
   ]
  },
  {
   "cell_type": "code",
   "execution_count": 70,
   "metadata": {},
   "outputs": [
    {
     "name": "stdout",
     "output_type": "stream",
     "text": [
      "4884000000\n"
     ]
    }
   ],
   "source": [
    "inventory = balance_sheet_data_qt['balanceSheetHistoryQuarterly'][\"AAPL\"][0]['2019-03-30']['inventory']\n",
    "print(inventory)"
   ]
  },
  {
   "cell_type": "code",
   "execution_count": 71,
   "metadata": {},
   "outputs": [
    {
     "name": "stdout",
     "output_type": "stream",
     "text": [
      "1.2632982126860897\n"
     ]
    }
   ],
   "source": [
    "quickratio = ( totalcurrentassetsaapl - inventory  ) / totalCurrentLiabilities\n",
    "print(quickratio)"
   ]
  },
  {
   "cell_type": "code",
   "execution_count": null,
   "metadata": {},
   "outputs": [],
   "source": []
  },
  {
   "cell_type": "code",
   "execution_count": 27,
   "metadata": {},
   "outputs": [
    {
     "data": {
      "text/plain": [
       "dict"
      ]
     },
     "execution_count": 27,
     "metadata": {},
     "output_type": "execute_result"
    }
   ],
   "source": [
    "type(balance_sheet_data_qt)"
   ]
  },
  {
   "cell_type": "code",
   "execution_count": 28,
   "metadata": {},
   "outputs": [
    {
     "data": {
      "text/plain": [
       "['balanceSheetHistoryQuarterly']"
      ]
     },
     "execution_count": 28,
     "metadata": {},
     "output_type": "execute_result"
    }
   ],
   "source": [
    "list(balance_sheet_data_qt.keys())"
   ]
  },
  {
   "cell_type": "code",
   "execution_count": null,
   "metadata": {},
   "outputs": [],
   "source": []
  },
  {
   "cell_type": "code",
   "execution_count": 14,
   "metadata": {},
   "outputs": [],
   "source": [
    "#balancesheet = pd.DataFrame.from_dict(balance_sheet_data_qt)"
   ]
  },
  {
   "cell_type": "code",
   "execution_count": 83,
   "metadata": {},
   "outputs": [],
   "source": [
    "ticker = \"GOOGL\"\n",
    "googlerevenue = YahooFinancials(ticker)"
   ]
  },
  {
   "cell_type": "code",
   "execution_count": 88,
   "metadata": {},
   "outputs": [
    {
     "data": {
      "text/plain": [
       "136819000000"
      ]
     },
     "execution_count": 88,
     "metadata": {},
     "output_type": "execute_result"
    }
   ],
   "source": [
    "totrev = googlerevenue.get_total_revenue() \n",
    "totrev"
   ]
  },
  {
   "cell_type": "code",
   "execution_count": 89,
   "metadata": {},
   "outputs": [
    {
     "data": {
      "text/plain": [
       "77270000000"
      ]
     },
     "execution_count": 89,
     "metadata": {},
     "output_type": "execute_result"
    }
   ],
   "source": [
    "grossprof = googlerevenue.get_gross_profit() \n",
    "grossprof"
   ]
  },
  {
   "cell_type": "code",
   "execution_count": 90,
   "metadata": {},
   "outputs": [
    {
     "data": {
      "text/plain": [
       "59549000000"
      ]
     },
     "execution_count": 90,
     "metadata": {},
     "output_type": "execute_result"
    }
   ],
   "source": [
    "totrev - grossprof"
   ]
  },
  {
   "cell_type": "code",
   "execution_count": 91,
   "metadata": {},
   "outputs": [
    {
     "data": {
      "text/plain": [
       "59549000000"
      ]
     },
     "execution_count": 91,
     "metadata": {},
     "output_type": "execute_result"
    }
   ],
   "source": [
    "costofrev = googlerevenue.get_cost_of_revenue() \n",
    "costofrev"
   ]
  },
  {
   "cell_type": "code",
   "execution_count": null,
   "metadata": {},
   "outputs": [],
   "source": []
  }
 ],
 "metadata": {
  "kernelspec": {
   "display_name": "Python 3",
   "language": "python",
   "name": "python3"
  },
  "language_info": {
   "codemirror_mode": {
    "name": "ipython",
    "version": 3
   },
   "file_extension": ".py",
   "mimetype": "text/x-python",
   "name": "python",
   "nbconvert_exporter": "python",
   "pygments_lexer": "ipython3",
   "version": "3.6.8"
  }
 },
 "nbformat": 4,
 "nbformat_minor": 2
}
